{
 "cells": [
  {
   "cell_type": "markdown",
   "metadata": {},
   "source": [
    "Generating objects trajectories"
   ]
  },
  {
   "cell_type": "code",
   "execution_count": 8,
   "metadata": {},
   "outputs": [],
   "source": [
    "import json\n",
    "import numpy as np\n",
    "\n",
    "traj_circle_r2 = []\n",
    "\n",
    "T = 20\n",
    "dt = 0.1\n",
    "R = 2\n",
    "w = 2*np.pi / T\n",
    "\n",
    "ts = np.linspace(0, 2*np.pi, int(T / dt))\n",
    "\n",
    "for t in ts:\n",
    "    x = R * np.cos(t)\n",
    "    y = R * np.sin(t)\n",
    "    z = 0\n",
    "    p = np.array([x, y, z])\n",
    "    traj_circle_r2.append(p)\n",
    "\n",
    "np.savetxt('trajectories/traj_circle_r2.txt', traj_circle_r2, delimiter=' ')\n"
   ]
  },
  {
   "cell_type": "code",
   "execution_count": 11,
   "metadata": {},
   "outputs": [],
   "source": [
    "traj_linear_right_down_diag = []\n",
    "\n",
    "dt = 0.1\n",
    "\n",
    "for i in range(1000):\n",
    "    x = 0.7 * i * dt\n",
    "    y = -0.7 * i * dt + 20\n",
    "    z = 0\n",
    "    traj_linear_right_down_diag.append(np.array([x, y, z]))\n",
    "\n",
    "np.savetxt('trajectories/traj_linear_right_down_diag.txt', traj_linear_right_down_diag, delimiter=' ')"
   ]
  }
 ],
 "metadata": {
  "kernelspec": {
   "display_name": "Python 3",
   "language": "python",
   "name": "python3"
  },
  "language_info": {
   "codemirror_mode": {
    "name": "ipython",
    "version": 3
   },
   "file_extension": ".py",
   "mimetype": "text/x-python",
   "name": "python",
   "nbconvert_exporter": "python",
   "pygments_lexer": "ipython3",
   "version": "3.10.7"
  }
 },
 "nbformat": 4,
 "nbformat_minor": 2
}
