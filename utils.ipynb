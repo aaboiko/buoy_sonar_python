{
 "cells": [
  {
   "cell_type": "code",
   "execution_count": 2,
   "metadata": {},
   "outputs": [
    {
     "data": {
      "text/latex": [
       "$\\displaystyle \\left[\\begin{matrix}\\frac{a_{1} a_{4}}{a_{1} a_{4} - a_{2} a_{3}} - \\frac{a_{3}^{2}}{a_{1} a_{4} - a_{2} a_{3}}\\\\- \\frac{a_{1} a_{2}}{a_{1} a_{4} - a_{2} a_{3}} + \\frac{a_{1} a_{3}}{a_{1} a_{4} - a_{2} a_{3}}\\\\\\frac{a_{2} a_{4}}{a_{1} a_{4} - a_{2} a_{3}} - \\frac{a_{3} a_{4}}{a_{1} a_{4} - a_{2} a_{3}}\\\\\\frac{a_{1} a_{4}}{a_{1} a_{4} - a_{2} a_{3}} - \\frac{a_{2}^{2}}{a_{1} a_{4} - a_{2} a_{3}}\\end{matrix}\\right]$"
      ],
      "text/plain": [
       "Matrix([\n",
       "[ a1*a4/(a1*a4 - a2*a3) - a3**2/(a1*a4 - a2*a3)],\n",
       "[-a1*a2/(a1*a4 - a2*a3) + a1*a3/(a1*a4 - a2*a3)],\n",
       "[ a2*a4/(a1*a4 - a2*a3) - a3*a4/(a1*a4 - a2*a3)],\n",
       "[ a1*a4/(a1*a4 - a2*a3) - a2**2/(a1*a4 - a2*a3)]])"
      ]
     },
     "execution_count": 2,
     "metadata": {},
     "output_type": "execute_result"
    }
   ],
   "source": [
    "import sympy as sp\n",
    "from sympy import symbols, Matrix\n",
    "import time\n",
    "\n",
    "timer = time.perf_counter()"
   ]
  }
 ],
 "metadata": {
  "kernelspec": {
   "display_name": "Python 3",
   "language": "python",
   "name": "python3"
  },
  "language_info": {
   "codemirror_mode": {
    "name": "ipython",
    "version": 3
   },
   "file_extension": ".py",
   "mimetype": "text/x-python",
   "name": "python",
   "nbconvert_exporter": "python",
   "pygments_lexer": "ipython3",
   "version": "3.10.7"
  }
 },
 "nbformat": 4,
 "nbformat_minor": 2
}
